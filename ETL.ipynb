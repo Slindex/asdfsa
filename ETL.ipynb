{
 "cells": [
  {
   "cell_type": "markdown",
   "metadata": {},
   "source": [
    "## Librerías"
   ]
  },
  {
   "cell_type": "code",
   "execution_count": 6,
   "metadata": {},
   "outputs": [],
   "source": [
    "# Librerías Personalizadas\n",
    "import my_utils as ut\n",
    "\n",
    "# Gestión de Archivos\n",
    "import importlib\n",
    "\n",
    "# Manejo de Data\n",
    "import pandas as pd\n",
    "import json"
   ]
  },
  {
   "cell_type": "markdown",
   "metadata": {},
   "source": [
    "Este comando permite recargar las librerías que importamos sin necesidad de reiniciar el Kernel"
   ]
  },
  {
   "cell_type": "code",
   "execution_count": 18,
   "metadata": {},
   "outputs": [
    {
     "data": {
      "text/plain": [
       "<module 'my_utils' from 'e:\\\\david\\\\Documents\\\\GitHub\\\\spotify-data-quality\\\\my_utils\\\\__init__.py'>"
      ]
     },
     "execution_count": 18,
     "metadata": {},
     "output_type": "execute_result"
    }
   ],
   "source": [
    "importlib.reload(ut)"
   ]
  },
  {
   "cell_type": "markdown",
   "metadata": {},
   "source": [
    "## Descarga de Archivos"
   ]
  },
  {
   "cell_type": "markdown",
   "metadata": {},
   "source": [
    "La función importada descarga el archivo `taylor_swift_spotify.json` en el directorio `data/` si el archivo no se encuentra descargado en dicho directorio. Si el directorio `data/` no existe, lo crea. Esto lo hago como una buena práctica ya que los archivos JSON cuando provienen de APIs pueden ser de tamaños sumamente altos y, por lo tanto, es mejor usar un Script que los descargue directamente desde la fuente, ya sea la API o cualquier otro medio."
   ]
  },
  {
   "cell_type": "code",
   "execution_count": 2,
   "metadata": {},
   "outputs": [
    {
     "name": "stdout",
     "output_type": "stream",
     "text": [
      "Directorio \"data/\" creado\n",
      "Descargando...\n",
      "El archivo \"taylor_swift_spotify.json\" ha sido descargado en: \"data/\"\n"
     ]
    }
   ],
   "source": [
    "ut.descargarData()"
   ]
  },
  {
   "cell_type": "markdown",
   "metadata": {},
   "source": [
    "## Procesamiento de Datos"
   ]
  },
  {
   "cell_type": "markdown",
   "metadata": {},
   "source": [
    "### Metodología de Trabajo"
   ]
  },
  {
   "cell_type": "markdown",
   "metadata": {},
   "source": [
    "Con el fin de transcribir la información del archivo **JSON** a un archivo **.CSV** se creará un dataframe que contenga la información de cada nivel de anidación del archivo **JSON**. Cada dataframe contendrá a su vez una columna que le permita relacionarse con el nivel de anidación anterior para, finalmente, obtener un dataframe final con la totalidad de la información del archivo JSON desanidada.\n",
    "\n",
    "Dada la estructura del JSON, es conveniente acoplar los 2 primeros niveles del JSON directamente en un dataframe. De esta forma, solo será necesario relacionar 2 dataframes:\n",
    "\n",
    "* df_albums: Contiene la información del 1er y 2do nivel del JSON\n",
    "* df_tracks: Contiene la información del 3er nivel del JSON desanidada\n",
    "\n",
    "El dataframe final se exportará en formato **.CSV** cumpliendo así con la primera consigna."
   ]
  },
  {
   "cell_type": "markdown",
   "metadata": {},
   "source": [
    "### Carga del JSON a Diccionario"
   ]
  },
  {
   "cell_type": "markdown",
   "metadata": {},
   "source": [
    "Para transformar y desanidar el archivo JSON apropiadamente es importante cargar los datos del archivo a un diccionario de Python. Para esto podemos abrir el archivo en modo lectura y, posteriormente, utilizar la función `json.load()` para almacenar el diccionario en la variable `data`"
   ]
  },
  {
   "cell_type": "code",
   "execution_count": 10,
   "metadata": {},
   "outputs": [],
   "source": [
    "FILE_PATH = 'data/taylor_swift_spotify.json'\n",
    "\n",
    "with open(FILE_PATH, 'r') as file:\n",
    "    data = json.load(file)"
   ]
  },
  {
   "cell_type": "markdown",
   "metadata": {},
   "source": [
    "### Creación del DataFrame 'Albums'"
   ]
  },
  {
   "cell_type": "markdown",
   "metadata": {},
   "source": [
    "Para crear este DataFrame utilizamos la función `json.normalize()` de pandas, la cual permite obtener la información de una llave concreta del diccionario y almacenarla en un dataframe, así como normalizarla según sea necesario.\n",
    "\n",
    "En este caso utilizaremos los siguientes parámetros para normalizar los 2 primeros niveles:\n",
    "\n",
    "* data: Es la variable que contiene el diccionario con todos los datos del JSON\n",
    "* record_path: Es la llave del diccionario que queremos desanidar\n",
    "* meta: Son las llaves del diccionario que queremos preservar junto a la llave desanidada. En este caso serán todas las del primer nivel\n",
    "* sep: El separador que indica las rutas de desanidado. Se establece con '.' ya que así se definió en el .CSV de ejemplo"
   ]
  },
  {
   "cell_type": "code",
   "execution_count": 58,
   "metadata": {},
   "outputs": [
    {
     "data": {
      "text/html": [
       "<div>\n",
       "<style scoped>\n",
       "    .dataframe tbody tr th:only-of-type {\n",
       "        vertical-align: middle;\n",
       "    }\n",
       "\n",
       "    .dataframe tbody tr th {\n",
       "        vertical-align: top;\n",
       "    }\n",
       "\n",
       "    .dataframe thead th {\n",
       "        text-align: right;\n",
       "    }\n",
       "</style>\n",
       "<table border=\"1\" class=\"dataframe\">\n",
       "  <thead>\n",
       "    <tr style=\"text-align: right;\">\n",
       "      <th></th>\n",
       "      <th>album_id</th>\n",
       "      <th>album_name</th>\n",
       "      <th>album_release_date</th>\n",
       "      <th>album_total_tracks</th>\n",
       "      <th>tracks</th>\n",
       "      <th>artist_id</th>\n",
       "      <th>artist_name</th>\n",
       "      <th>artist_popularity</th>\n",
       "    </tr>\n",
       "  </thead>\n",
       "  <tbody>\n",
       "    <tr>\n",
       "      <th>0</th>\n",
       "      <td>1o59UpKw81iHR0HPiSkJR0</td>\n",
       "      <td>1989 (Taylor's Version) [Deluxe]</td>\n",
       "      <td>2023-10-27</td>\n",
       "      <td>22</td>\n",
       "      <td>[{'disc_number': 1, 'duration_ms': 212600, 'ex...</td>\n",
       "      <td>06HL4z0CvFAxyc27GX</td>\n",
       "      <td>Taylor Swift</td>\n",
       "      <td>120</td>\n",
       "    </tr>\n",
       "    <tr>\n",
       "      <th>1</th>\n",
       "      <td>64LU4c1nfjz1t4VnGhagcg</td>\n",
       "      <td>1989 (Taylor's Version)</td>\n",
       "      <td>2023-10-26</td>\n",
       "      <td>21</td>\n",
       "      <td>[{'disc_number': 1, 'duration_ms': 212600, 'ex...</td>\n",
       "      <td>06HL4z0CvFAxyc27GX</td>\n",
       "      <td>Taylor Swift</td>\n",
       "      <td>120</td>\n",
       "    </tr>\n",
       "    <tr>\n",
       "      <th>2</th>\n",
       "      <td>5AEDGbliTTfjOB8TSm1sxt</td>\n",
       "      <td>Speak Now (Taylor's Version)</td>\n",
       "      <td>2023-07-07</td>\n",
       "      <td>22</td>\n",
       "      <td>[{'disc_number': 1, 'duration_ms': 231706, 'ex...</td>\n",
       "      <td>06HL4z0CvFAxyc27GX</td>\n",
       "      <td>Taylor Swift</td>\n",
       "      <td>120</td>\n",
       "    </tr>\n",
       "  </tbody>\n",
       "</table>\n",
       "</div>"
      ],
      "text/plain": [
       "                 album_id                        album_name  \\\n",
       "0  1o59UpKw81iHR0HPiSkJR0  1989 (Taylor's Version) [Deluxe]   \n",
       "1  64LU4c1nfjz1t4VnGhagcg           1989 (Taylor's Version)   \n",
       "2  5AEDGbliTTfjOB8TSm1sxt      Speak Now (Taylor's Version)   \n",
       "\n",
       "  album_release_date album_total_tracks  \\\n",
       "0         2023-10-27                 22   \n",
       "1         2023-10-26                 21   \n",
       "2         2023-07-07                 22   \n",
       "\n",
       "                                              tracks           artist_id  \\\n",
       "0  [{'disc_number': 1, 'duration_ms': 212600, 'ex...  06HL4z0CvFAxyc27GX   \n",
       "1  [{'disc_number': 1, 'duration_ms': 212600, 'ex...  06HL4z0CvFAxyc27GX   \n",
       "2  [{'disc_number': 1, 'duration_ms': 231706, 'ex...  06HL4z0CvFAxyc27GX   \n",
       "\n",
       "    artist_name artist_popularity  \n",
       "0  Taylor Swift               120  \n",
       "1  Taylor Swift               120  \n",
       "2  Taylor Swift               120  "
      ]
     },
     "execution_count": 58,
     "metadata": {},
     "output_type": "execute_result"
    }
   ],
   "source": [
    "df_albums = pd.json_normalize(data=data, \n",
    "                              record_path='albums', \n",
    "                              meta=['artist_id', 'artist_name', 'artist_popularity'],\n",
    "                              sep='.'\n",
    "                              )\n",
    "\n",
    "df_albums.head(3)"
   ]
  },
  {
   "cell_type": "markdown",
   "metadata": {},
   "source": [
    "El dataframe resultante contiene la columna **'tracks'**, la cual debemos eliminar puesto que la desanidaremos en otro dataframe."
   ]
  },
  {
   "cell_type": "code",
   "execution_count": 59,
   "metadata": {},
   "outputs": [
    {
     "data": {
      "text/html": [
       "<div>\n",
       "<style scoped>\n",
       "    .dataframe tbody tr th:only-of-type {\n",
       "        vertical-align: middle;\n",
       "    }\n",
       "\n",
       "    .dataframe tbody tr th {\n",
       "        vertical-align: top;\n",
       "    }\n",
       "\n",
       "    .dataframe thead th {\n",
       "        text-align: right;\n",
       "    }\n",
       "</style>\n",
       "<table border=\"1\" class=\"dataframe\">\n",
       "  <thead>\n",
       "    <tr style=\"text-align: right;\">\n",
       "      <th></th>\n",
       "      <th>album_id</th>\n",
       "      <th>album_name</th>\n",
       "      <th>album_release_date</th>\n",
       "      <th>album_total_tracks</th>\n",
       "      <th>artist_id</th>\n",
       "      <th>artist_name</th>\n",
       "      <th>artist_popularity</th>\n",
       "    </tr>\n",
       "  </thead>\n",
       "  <tbody>\n",
       "    <tr>\n",
       "      <th>0</th>\n",
       "      <td>1o59UpKw81iHR0HPiSkJR0</td>\n",
       "      <td>1989 (Taylor's Version) [Deluxe]</td>\n",
       "      <td>2023-10-27</td>\n",
       "      <td>22</td>\n",
       "      <td>06HL4z0CvFAxyc27GX</td>\n",
       "      <td>Taylor Swift</td>\n",
       "      <td>120</td>\n",
       "    </tr>\n",
       "    <tr>\n",
       "      <th>1</th>\n",
       "      <td>64LU4c1nfjz1t4VnGhagcg</td>\n",
       "      <td>1989 (Taylor's Version)</td>\n",
       "      <td>2023-10-26</td>\n",
       "      <td>21</td>\n",
       "      <td>06HL4z0CvFAxyc27GX</td>\n",
       "      <td>Taylor Swift</td>\n",
       "      <td>120</td>\n",
       "    </tr>\n",
       "    <tr>\n",
       "      <th>2</th>\n",
       "      <td>5AEDGbliTTfjOB8TSm1sxt</td>\n",
       "      <td>Speak Now (Taylor's Version)</td>\n",
       "      <td>2023-07-07</td>\n",
       "      <td>22</td>\n",
       "      <td>06HL4z0CvFAxyc27GX</td>\n",
       "      <td>Taylor Swift</td>\n",
       "      <td>120</td>\n",
       "    </tr>\n",
       "  </tbody>\n",
       "</table>\n",
       "</div>"
      ],
      "text/plain": [
       "                 album_id                        album_name  \\\n",
       "0  1o59UpKw81iHR0HPiSkJR0  1989 (Taylor's Version) [Deluxe]   \n",
       "1  64LU4c1nfjz1t4VnGhagcg           1989 (Taylor's Version)   \n",
       "2  5AEDGbliTTfjOB8TSm1sxt      Speak Now (Taylor's Version)   \n",
       "\n",
       "  album_release_date album_total_tracks           artist_id   artist_name  \\\n",
       "0         2023-10-27                 22  06HL4z0CvFAxyc27GX  Taylor Swift   \n",
       "1         2023-10-26                 21  06HL4z0CvFAxyc27GX  Taylor Swift   \n",
       "2         2023-07-07                 22  06HL4z0CvFAxyc27GX  Taylor Swift   \n",
       "\n",
       "  artist_popularity  \n",
       "0               120  \n",
       "1               120  \n",
       "2               120  "
      ]
     },
     "execution_count": 59,
     "metadata": {},
     "output_type": "execute_result"
    }
   ],
   "source": [
    "df_albums.drop(columns='tracks', inplace=True)\n",
    "\n",
    "df_albums.head(3)"
   ]
  },
  {
   "cell_type": "markdown",
   "metadata": {},
   "source": [
    "### Creación del DataFrame 'Tracks'"
   ]
  },
  {
   "cell_type": "markdown",
   "metadata": {},
   "source": [
    "La creación de este dataframe es muy similar al que se creó anteriormente. Sin embargo, ahora debemos especificar una ruta con la llave que queremos desanidar. Para ello, utilizamos el siguiente formato: `['llave', 'sub llave']`. La llave 'tracks' se encuentra dentro de la llave 'albums', así que lo especificamos.\n",
    "\n",
    "De forma muy similar, en el parámetro 'meta' debemos especificar la ruta de la llave que queremos preservar para poder relacionar la información con el dataframe creado anteriormente. La sintaxis es: `[['llave', 'sub llave']]`. La llave 'album_id' se encuentra dentro de 'albums' así que lo especificamos."
   ]
  },
  {
   "cell_type": "code",
   "execution_count": 45,
   "metadata": {},
   "outputs": [],
   "source": [
    "df_tracks = pd.json_normalize(data=data, \n",
    "                              record_path=['albums', 'tracks'], \n",
    "                              meta=[['albums', 'album_id']], \n",
    "                              sep='.'\n",
    "                              )"
   ]
  },
  {
   "cell_type": "markdown",
   "metadata": {},
   "source": [
    "Ahora renombramos la columna **'albums.album_id'** a **'album_id'** tal como aparece en el **.CSV** de ejemplo."
   ]
  },
  {
   "cell_type": "code",
   "execution_count": 47,
   "metadata": {},
   "outputs": [
    {
     "data": {
      "text/html": [
       "<div>\n",
       "<style scoped>\n",
       "    .dataframe tbody tr th:only-of-type {\n",
       "        vertical-align: middle;\n",
       "    }\n",
       "\n",
       "    .dataframe tbody tr th {\n",
       "        vertical-align: top;\n",
       "    }\n",
       "\n",
       "    .dataframe thead th {\n",
       "        text-align: right;\n",
       "    }\n",
       "</style>\n",
       "<table border=\"1\" class=\"dataframe\">\n",
       "  <thead>\n",
       "    <tr style=\"text-align: right;\">\n",
       "      <th></th>\n",
       "      <th>disc_number</th>\n",
       "      <th>duration_ms</th>\n",
       "      <th>explicit</th>\n",
       "      <th>track_number</th>\n",
       "      <th>track_popularity</th>\n",
       "      <th>track_id</th>\n",
       "      <th>track_name</th>\n",
       "      <th>audio_features.danceability</th>\n",
       "      <th>audio_features.energy</th>\n",
       "      <th>audio_features.key</th>\n",
       "      <th>...</th>\n",
       "      <th>audio_features.mode</th>\n",
       "      <th>audio_features.speechiness</th>\n",
       "      <th>audio_features.acousticness</th>\n",
       "      <th>audio_features.instrumentalness</th>\n",
       "      <th>audio_features.liveness</th>\n",
       "      <th>audio_features.valence</th>\n",
       "      <th>audio_features.tempo</th>\n",
       "      <th>audio_features.id</th>\n",
       "      <th>audio_features.time_signature</th>\n",
       "      <th>album_id</th>\n",
       "    </tr>\n",
       "  </thead>\n",
       "  <tbody>\n",
       "    <tr>\n",
       "      <th>0</th>\n",
       "      <td>1</td>\n",
       "      <td>212600</td>\n",
       "      <td>False</td>\n",
       "      <td>1</td>\n",
       "      <td>77</td>\n",
       "      <td>4WUepByoeqcedHoYhSNHRt</td>\n",
       "      <td>Welcome To New York (Taylor's Version)</td>\n",
       "      <td>0.757</td>\n",
       "      <td>0.610</td>\n",
       "      <td>7.0</td>\n",
       "      <td>...</td>\n",
       "      <td>1</td>\n",
       "      <td>0.0327</td>\n",
       "      <td>0.00942</td>\n",
       "      <td>0.000037</td>\n",
       "      <td>0.3670</td>\n",
       "      <td>0.685</td>\n",
       "      <td>116.998</td>\n",
       "      <td>4WUepByoeqcedHoYhSNHRt</td>\n",
       "      <td>4.0</td>\n",
       "      <td>1o59UpKw81iHR0HPiSkJR0</td>\n",
       "    </tr>\n",
       "    <tr>\n",
       "      <th>1</th>\n",
       "      <td>1</td>\n",
       "      <td>231833</td>\n",
       "      <td>False</td>\n",
       "      <td>2</td>\n",
       "      <td>78</td>\n",
       "      <td>0108kcWLnn2HlH2kedi1gn</td>\n",
       "      <td>Blank Space (Taylor's Version)</td>\n",
       "      <td>0.733</td>\n",
       "      <td>0.733</td>\n",
       "      <td>0.0</td>\n",
       "      <td>...</td>\n",
       "      <td>1</td>\n",
       "      <td>0.0670</td>\n",
       "      <td>5</td>\n",
       "      <td>0</td>\n",
       "      <td>0.1680</td>\n",
       "      <td>0.701</td>\n",
       "      <td>96.057</td>\n",
       "      <td>0108kcWLnn2HlH2kedi1gn</td>\n",
       "      <td>4.0</td>\n",
       "      <td>1o59UpKw81iHR0HPiSkJR0</td>\n",
       "    </tr>\n",
       "    <tr>\n",
       "      <th>2</th>\n",
       "      <td>1</td>\n",
       "      <td>231000</td>\n",
       "      <td>False</td>\n",
       "      <td>3</td>\n",
       "      <td>79</td>\n",
       "      <td>3Vpk1hfMAQme8VJ0SNRSkd</td>\n",
       "      <td>Style (Taylor's Version)</td>\n",
       "      <td>0.511</td>\n",
       "      <td>0.822</td>\n",
       "      <td>11.0</td>\n",
       "      <td>...</td>\n",
       "      <td>0</td>\n",
       "      <td>0.0397</td>\n",
       "      <td>0.000421</td>\n",
       "      <td>0.0197</td>\n",
       "      <td>0.0899</td>\n",
       "      <td>0.305</td>\n",
       "      <td>94.868</td>\n",
       "      <td>3Vpk1hfMAQme8VJ0SNRSkd</td>\n",
       "      <td>4.0</td>\n",
       "      <td>1o59UpKw81iHR0HPiSkJR0</td>\n",
       "    </tr>\n",
       "  </tbody>\n",
       "</table>\n",
       "<p>3 rows × 21 columns</p>\n",
       "</div>"
      ],
      "text/plain": [
       "   disc_number  duration_ms explicit  track_number  track_popularity  \\\n",
       "0            1       212600    False             1                77   \n",
       "1            1       231833    False             2                78   \n",
       "2            1       231000    False             3                79   \n",
       "\n",
       "                 track_id                              track_name  \\\n",
       "0  4WUepByoeqcedHoYhSNHRt  Welcome To New York (Taylor's Version)   \n",
       "1  0108kcWLnn2HlH2kedi1gn          Blank Space (Taylor's Version)   \n",
       "2  3Vpk1hfMAQme8VJ0SNRSkd                Style (Taylor's Version)   \n",
       "\n",
       "  audio_features.danceability  audio_features.energy  audio_features.key  ...  \\\n",
       "0                       0.757                  0.610                 7.0  ...   \n",
       "1                       0.733                  0.733                 0.0  ...   \n",
       "2                       0.511                  0.822                11.0  ...   \n",
       "\n",
       "   audio_features.mode  audio_features.speechiness  \\\n",
       "0                    1                      0.0327   \n",
       "1                    1                      0.0670   \n",
       "2                    0                      0.0397   \n",
       "\n",
       "   audio_features.acousticness audio_features.instrumentalness  \\\n",
       "0                      0.00942                        0.000037   \n",
       "1                            5                               0   \n",
       "2                     0.000421                          0.0197   \n",
       "\n",
       "  audio_features.liveness  audio_features.valence  audio_features.tempo  \\\n",
       "0                  0.3670                   0.685               116.998   \n",
       "1                  0.1680                   0.701                96.057   \n",
       "2                  0.0899                   0.305                94.868   \n",
       "\n",
       "        audio_features.id audio_features.time_signature  \\\n",
       "0  4WUepByoeqcedHoYhSNHRt                           4.0   \n",
       "1  0108kcWLnn2HlH2kedi1gn                           4.0   \n",
       "2  3Vpk1hfMAQme8VJ0SNRSkd                           4.0   \n",
       "\n",
       "                 album_id  \n",
       "0  1o59UpKw81iHR0HPiSkJR0  \n",
       "1  1o59UpKw81iHR0HPiSkJR0  \n",
       "2  1o59UpKw81iHR0HPiSkJR0  \n",
       "\n",
       "[3 rows x 21 columns]"
      ]
     },
     "execution_count": 47,
     "metadata": {},
     "output_type": "execute_result"
    }
   ],
   "source": [
    "df_tracks.rename(columns={'albums.album_id': 'album_id'}, inplace=True)\n",
    "df_tracks.head(3)"
   ]
  },
  {
   "cell_type": "markdown",
   "metadata": {},
   "source": [
    "### Creación del DataFrame final"
   ]
  },
  {
   "cell_type": "markdown",
   "metadata": {},
   "source": [
    "Para obtener el dataframe final relacionamos la información de **'df_albums'** y **'df_tracks'** mediante la columna común **'album_id'**."
   ]
  },
  {
   "cell_type": "code",
   "execution_count": 54,
   "metadata": {},
   "outputs": [
    {
     "data": {
      "text/html": [
       "<div>\n",
       "<style scoped>\n",
       "    .dataframe tbody tr th:only-of-type {\n",
       "        vertical-align: middle;\n",
       "    }\n",
       "\n",
       "    .dataframe tbody tr th {\n",
       "        vertical-align: top;\n",
       "    }\n",
       "\n",
       "    .dataframe thead th {\n",
       "        text-align: right;\n",
       "    }\n",
       "</style>\n",
       "<table border=\"1\" class=\"dataframe\">\n",
       "  <thead>\n",
       "    <tr style=\"text-align: right;\">\n",
       "      <th></th>\n",
       "      <th>disc_number</th>\n",
       "      <th>duration_ms</th>\n",
       "      <th>explicit</th>\n",
       "      <th>track_number</th>\n",
       "      <th>track_popularity</th>\n",
       "      <th>track_id</th>\n",
       "      <th>track_name</th>\n",
       "      <th>audio_features.danceability</th>\n",
       "      <th>audio_features.energy</th>\n",
       "      <th>audio_features.key</th>\n",
       "      <th>...</th>\n",
       "      <th>audio_features.tempo</th>\n",
       "      <th>audio_features.id</th>\n",
       "      <th>audio_features.time_signature</th>\n",
       "      <th>album_id</th>\n",
       "      <th>album_name</th>\n",
       "      <th>album_release_date</th>\n",
       "      <th>album_total_tracks</th>\n",
       "      <th>artist_id</th>\n",
       "      <th>artist_name</th>\n",
       "      <th>artist_popularity</th>\n",
       "    </tr>\n",
       "  </thead>\n",
       "  <tbody>\n",
       "    <tr>\n",
       "      <th>0</th>\n",
       "      <td>1</td>\n",
       "      <td>212600</td>\n",
       "      <td>False</td>\n",
       "      <td>1</td>\n",
       "      <td>77</td>\n",
       "      <td>4WUepByoeqcedHoYhSNHRt</td>\n",
       "      <td>Welcome To New York (Taylor's Version)</td>\n",
       "      <td>0.757</td>\n",
       "      <td>0.610</td>\n",
       "      <td>7.0</td>\n",
       "      <td>...</td>\n",
       "      <td>116.998</td>\n",
       "      <td>4WUepByoeqcedHoYhSNHRt</td>\n",
       "      <td>4.0</td>\n",
       "      <td>1o59UpKw81iHR0HPiSkJR0</td>\n",
       "      <td>1989 (Taylor's Version) [Deluxe]</td>\n",
       "      <td>2023-10-27</td>\n",
       "      <td>22</td>\n",
       "      <td>06HL4z0CvFAxyc27GX</td>\n",
       "      <td>Taylor Swift</td>\n",
       "      <td>120</td>\n",
       "    </tr>\n",
       "    <tr>\n",
       "      <th>1</th>\n",
       "      <td>1</td>\n",
       "      <td>231833</td>\n",
       "      <td>False</td>\n",
       "      <td>2</td>\n",
       "      <td>78</td>\n",
       "      <td>0108kcWLnn2HlH2kedi1gn</td>\n",
       "      <td>Blank Space (Taylor's Version)</td>\n",
       "      <td>0.733</td>\n",
       "      <td>0.733</td>\n",
       "      <td>0.0</td>\n",
       "      <td>...</td>\n",
       "      <td>96.057</td>\n",
       "      <td>0108kcWLnn2HlH2kedi1gn</td>\n",
       "      <td>4.0</td>\n",
       "      <td>1o59UpKw81iHR0HPiSkJR0</td>\n",
       "      <td>1989 (Taylor's Version) [Deluxe]</td>\n",
       "      <td>2023-10-27</td>\n",
       "      <td>22</td>\n",
       "      <td>06HL4z0CvFAxyc27GX</td>\n",
       "      <td>Taylor Swift</td>\n",
       "      <td>120</td>\n",
       "    </tr>\n",
       "    <tr>\n",
       "      <th>2</th>\n",
       "      <td>1</td>\n",
       "      <td>231000</td>\n",
       "      <td>False</td>\n",
       "      <td>3</td>\n",
       "      <td>79</td>\n",
       "      <td>3Vpk1hfMAQme8VJ0SNRSkd</td>\n",
       "      <td>Style (Taylor's Version)</td>\n",
       "      <td>0.511</td>\n",
       "      <td>0.822</td>\n",
       "      <td>11.0</td>\n",
       "      <td>...</td>\n",
       "      <td>94.868</td>\n",
       "      <td>3Vpk1hfMAQme8VJ0SNRSkd</td>\n",
       "      <td>4.0</td>\n",
       "      <td>1o59UpKw81iHR0HPiSkJR0</td>\n",
       "      <td>1989 (Taylor's Version) [Deluxe]</td>\n",
       "      <td>2023-10-27</td>\n",
       "      <td>22</td>\n",
       "      <td>06HL4z0CvFAxyc27GX</td>\n",
       "      <td>Taylor Swift</td>\n",
       "      <td>120</td>\n",
       "    </tr>\n",
       "  </tbody>\n",
       "</table>\n",
       "<p>3 rows × 27 columns</p>\n",
       "</div>"
      ],
      "text/plain": [
       "   disc_number  duration_ms explicit  track_number  track_popularity  \\\n",
       "0            1       212600    False             1                77   \n",
       "1            1       231833    False             2                78   \n",
       "2            1       231000    False             3                79   \n",
       "\n",
       "                 track_id                              track_name  \\\n",
       "0  4WUepByoeqcedHoYhSNHRt  Welcome To New York (Taylor's Version)   \n",
       "1  0108kcWLnn2HlH2kedi1gn          Blank Space (Taylor's Version)   \n",
       "2  3Vpk1hfMAQme8VJ0SNRSkd                Style (Taylor's Version)   \n",
       "\n",
       "  audio_features.danceability  audio_features.energy  audio_features.key  ...  \\\n",
       "0                       0.757                  0.610                 7.0  ...   \n",
       "1                       0.733                  0.733                 0.0  ...   \n",
       "2                       0.511                  0.822                11.0  ...   \n",
       "\n",
       "   audio_features.tempo       audio_features.id  \\\n",
       "0               116.998  4WUepByoeqcedHoYhSNHRt   \n",
       "1                96.057  0108kcWLnn2HlH2kedi1gn   \n",
       "2                94.868  3Vpk1hfMAQme8VJ0SNRSkd   \n",
       "\n",
       "   audio_features.time_signature                album_id  \\\n",
       "0                            4.0  1o59UpKw81iHR0HPiSkJR0   \n",
       "1                            4.0  1o59UpKw81iHR0HPiSkJR0   \n",
       "2                            4.0  1o59UpKw81iHR0HPiSkJR0   \n",
       "\n",
       "                         album_name  album_release_date  album_total_tracks  \\\n",
       "0  1989 (Taylor's Version) [Deluxe]          2023-10-27                  22   \n",
       "1  1989 (Taylor's Version) [Deluxe]          2023-10-27                  22   \n",
       "2  1989 (Taylor's Version) [Deluxe]          2023-10-27                  22   \n",
       "\n",
       "            artist_id   artist_name  artist_popularity  \n",
       "0  06HL4z0CvFAxyc27GX  Taylor Swift                120  \n",
       "1  06HL4z0CvFAxyc27GX  Taylor Swift                120  \n",
       "2  06HL4z0CvFAxyc27GX  Taylor Swift                120  \n",
       "\n",
       "[3 rows x 27 columns]"
      ]
     },
     "execution_count": 54,
     "metadata": {},
     "output_type": "execute_result"
    }
   ],
   "source": [
    "final_df = pd.merge(df_tracks, df_albums, on='album_id')\n",
    "final_df.head(3)"
   ]
  },
  {
   "cell_type": "markdown",
   "metadata": {},
   "source": [
    "Cabe aclarar que el orden de las columnas está ligeramente modificado de la siguiente forma:\n",
    "\n",
    "* Actual: track_info -> album_info -> artist info\n",
    "* Ejemplo: track_info -> artist_info -> album_info\n",
    "\n",
    "Considero que el orden actual es un poco más legible ya que va de lo más específico a lo más general, así que el .CSV resultante tendrá ese mismo orden en las columnas"
   ]
  },
  {
   "cell_type": "markdown",
   "metadata": {},
   "source": [
    "Finalmente exportamos el dataframe en formato **.CSV** y lo guardamos en el directorio `data/`"
   ]
  },
  {
   "cell_type": "code",
   "execution_count": 60,
   "metadata": {},
   "outputs": [],
   "source": [
    "final_df.to_csv('data/taylor_swift_spotify.csv', index=False)"
   ]
  }
 ],
 "metadata": {
  "kernelspec": {
   "display_name": ".venv",
   "language": "python",
   "name": "python3"
  },
  "language_info": {
   "codemirror_mode": {
    "name": "ipython",
    "version": 3
   },
   "file_extension": ".py",
   "mimetype": "text/x-python",
   "name": "python",
   "nbconvert_exporter": "python",
   "pygments_lexer": "ipython3",
   "version": "3.12.0"
  }
 },
 "nbformat": 4,
 "nbformat_minor": 2
}
